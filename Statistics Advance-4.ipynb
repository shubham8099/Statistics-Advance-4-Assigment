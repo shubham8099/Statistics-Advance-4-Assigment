{
 "cells": [
  {
   "cell_type": "markdown",
   "id": "ed364a41-c57f-4818-b32b-da9dd90c7a3a",
   "metadata": {},
   "source": [
    "# Jai maa saraswati :"
   ]
  },
  {
   "cell_type": "markdown",
   "id": "8f1d46a2-09ff-4586-b8e5-94f3482c6069",
   "metadata": {},
   "source": [
    "Q1: What is the difference between a t-test and a z-test? Provide an example scenario where you would\n",
    "use each type of test."
   ]
  },
  {
   "cell_type": "markdown",
   "id": "1db0197b-e868-47b5-89ab-aca63e062c38",
   "metadata": {},
   "source": [
    "# T-TEST\n",
    "\n",
    "* We use the T-test when we Have a Sample Size is Small(less than < 30) And the Population Standard Deviation is Unknown .\n",
    "\n",
    "* It also used when Population Follows the Normal-Distribution or when the sample Size is Large & Population standard \n",
    "  Deviation is Unknown . \n",
    "  \n",
    "* The T-test is more Robust to violations of the Assumption of the Normality as Compared to Z-test .\n",
    "\n",
    "# EXAMPLES SCENARIO :-\n",
    "\n",
    " * Suppose we want to test whether there's is a Significant Difference in the mean of the Two Groups(Control Group V/S          Treatment Group) on a psychological test . if we have sample size 25 Participants in each Group and We Don't Know the\n",
    "   Standard Deviation, In this Case We use the T-test to compare the mean of Two Group .\n",
    "   \n",
    "# Z-TEST    \n",
    "\n",
    "* Z-test is used when we Have the large sample size(Typically Greater than > 30) or when the Population Standard Deviation \n",
    "  is known .\n",
    "  \n",
    "* It's Typically used when the Population Follows the Normal Distribution or When Sample Size is large .\n",
    "\n",
    "# EXAMPLE SCENARIO :-\n",
    "\n",
    "* When we want to test the Mean Height of the Student in a Particular school is Significantly Different from the national \n",
    "  Avergae Height of the Student. IF we have Large Sample Size(Let say more than 100) and we know the population Standard\n",
    "  Deviation(Based on the National Data), In this Case We use the Z-Test ."
   ]
  },
  {
   "cell_type": "markdown",
   "id": "69d02b08-89cc-4edc-bac1-e91ea02b03b1",
   "metadata": {},
   "source": [
    "Q2: Differentiate between one-tailed and two-tailed tests."
   ]
  },
  {
   "cell_type": "markdown",
   "id": "f315fab4-604a-452d-ae16-b9f239c7c421",
   "metadata": {},
   "source": [
    "# ONE-TAILED TEST ^_^\n",
    "\n",
    "* In one Tailed Test , the Null Hypothesis Specifies a Direction for the Effect either an Increase or Decrease But not Both.\n",
    "* The Critical Region , Where the Data would lead to Rejection of the Null Hypothesis , is Located entirely in one tail of\n",
    "  the Distribution .\n",
    "* One-Tail Test is used when Researcher is Speifically Interested in Whether a Parameter is greater than or less than a \n",
    "  Certain Value , but not the Both .\n",
    "  \n",
    "# Example Scenario :-\n",
    "\n",
    "* Suppose the Researcher wants to test whether a new drug increses the average Response Time of participants compare to \n",
    "  standard drug, Here the alternative hypothesis would be one-tail , Focusing in the Increasing in Response time . \n",
    "  \n",
    "# TWO-TAILED TEST +_+\n",
    "\n",
    "* In a Two tail test Null Hypothesis Do Not Specifies the Direction for the effcet It state the there is no differnce or \n",
    "  Relationship .\n",
    "* The Critical region is divided into Both tails of the distribution allowing for the detecion of effects in either           Direction.  \n",
    "* Two tailed test is used when the researcher wants to determine the whether there is a significant difference or             relationship.\n",
    "\n",
    "# EXAMPLE SCENARIO :-\n",
    "\n",
    "* Consider a situation where a researcher wants to test whether a coin is fair (i.e., it has an equal probability of landing   heads or tails). Here, the alternative hypothesis would be two-tailed, as the researcher is interested in detecting any     significant deviation from the expected 50-50 outcome."
   ]
  },
  {
   "cell_type": "markdown",
   "id": "95cf1cdf-719f-48c7-a028-3fc2aab4123a",
   "metadata": {},
   "source": [
    "Q3: Explain the concept of Type 1 and Type 2 errors in hypothesis testing. Provide an example scenario for\n",
    "each type of error."
   ]
  },
  {
   "cell_type": "markdown",
   "id": "6268624d-af8f-4922-bc12-eafe3dc648b7",
   "metadata": {},
   "source": [
    "# TYPE 1 ERROR :-\n",
    "\n",
    "* Type 1 error occur when the null Hypothesis is incorrectly, indicates that there is a Significant difference or effect\n",
    "  But in the Reality there is None .\n",
    "  \n",
    "* In the other word False Positive; Researcher Conculde there's an effect when there isn't .\n",
    "\n",
    "* The probablity of making Type 1 Error is denoted by the significance level, usually denoted by the Alpha .\n",
    "\n",
    "* Commonly Researcher set the significance level 0.05 meaning there is 5% chance to committing a Type 1 error . \n",
    "\n",
    "# EXAMPLE SCENARIO :-\n",
    "\n",
    "* A pharmaceutical company is testing a new drug, claiming it reduces cholesterol levels by at least 20%. They conduct a       hypothesis test and reject the null hypothesis, concluding the drug is effective. However, in reality, the drug has no       effect on cholesterol levels.\n",
    "\n",
    "# TYPE 2 ERROR ^_^\n",
    "\n",
    "* Type 2 Error occur when the Null Hypothesis is Incorrectly accepted,suggesting that there is no significant difference\n",
    "  in Fact that,there is One .\n",
    "  \n",
    "* It's False Negative: The Researcher fails to detect an effect that actually Exists .\n",
    "\n",
    "* The Probbality of Making the Type 2 Error is Denoted by Beta.\n",
    "\n",
    "* Power, which is equal to 1 - β, represents the probability of correctly rejecting a false null hypothesis. \n",
    "\n",
    "# EXAMPLE SCENARIO :-\n",
    "\n",
    "* In a criminal trial, the null hypothesis is that the defendant is innocent. A Type 2 error would occur if the jury fails     to convict the guilty defendant, letting them go free, despite the evidence showing their guilt."
   ]
  },
  {
   "cell_type": "markdown",
   "id": "c60c0464-cb95-4ca0-8e13-7653b4b88fae",
   "metadata": {},
   "source": [
    "Q4:  Explain Bayes's theorem with an example . "
   ]
  },
  {
   "cell_type": "markdown",
   "id": "596f9814-64bc-4360-a2a6-5a2be8bcd10b",
   "metadata": {},
   "source": [
    "# BAYES'S THEOREM :-\n",
    "\n",
    "* Bayes theorem is a fundamental Concept in Probablity theorey & Statistics . It Describe the how to Update the Probablity\n",
    "  of Hypothesis Based on the New Evidence .\n",
    "  \n",
    "* P(A/B) => P(B/A) * P(A/B)/P(B)\n",
    " \n",
    " * P(A/B) => is the probablity of hypothesis A Being True given the observed evidence of B .\n",
    " * P(B/A) => is the Probablity of Observing Evidence B given that Hypothesis A is True .\n",
    " * P(A) => is the prior probablity of the Hypothesis A Being True before Observing any Evidence \n",
    " * P(B) => is the Probablity of Observing Evidence B .\n",
    " \n",
    "# Example Scenario :-\n",
    "\n",
    "* Suppose a doctor wants to determine if a patient has a certain disease (let's call it Disease X). The doctor knows that     the prevalence of Disease X in the general population is low, say 1 in 1000 (0.001), which represents the prior             probability 𝑃(𝐴)of having the disease.\n",
    "* Additionally, the doctor has a diagnostic test for Disease X. Studies have shown that the test correctly identifies the     disease (true positive rate) 99% of the time and incorrectly indicates the presence of the disease (false positive rate)     5% of the time.\n",
    "* Now, let's say the patient takes the test, and it comes back positive (evidence B). The doctor wants to know the             probability that the patient actually has Disease X (hypothesis A) given this positive test result.\n",
    "\n",
    "# ANSWER :-\n",
    "\n",
    "* P(A∣B) = Probability that the patient has Disease X given a positive test result.\n",
    "* P(B∣A) = Probability of a positive test result given the patient has Disease X (true positive rate = 0.99) \n",
    "* P(A) = Prior probability of having Disease X (prevalence = 0.001)\n",
    "* P(B) = Probability of a positive test result.\n",
    "\n",
    "* FORMUAL :- P(B)=P(B∣A)×P(A)+P(B∣¬A)×P(¬A)\n",
    "\n",
    "* P(¬A) is the probability of not having Disease X (1 - 0.001 = 0.999).\n",
    "* P(B∣¬A) is the probability of a positive test result given the patient does not have Disease X (false positive rate =       0.05).\n",
    "* Now, we can plug these values into Bayes's theorem to find \n",
    "* 𝑃(𝐴∣𝐵)P(A∣B), the probability that the patient has Disease X given a positive test result"
   ]
  },
  {
   "cell_type": "markdown",
   "id": "9b5daed1-5662-4e6d-a5e5-35f12d65ca1d",
   "metadata": {},
   "source": [
    "Q5: What is a confidence interval? How to calculate the confidence interval, explain with an example."
   ]
  },
  {
   "cell_type": "markdown",
   "id": "503113e9-f3f9-428e-9962-6882ee35d055",
   "metadata": {},
   "source": [
    "# CONFIDENCE INTERVAL :-\n",
    "\n",
    "* A confidence Interval is a Statistical Measurement used to Estimate the Range within which a population parameter such as\n",
    "  Mean or proportion , is likely to lie, Based on a Sample from that Population . It Provide a Range of values that are \n",
    "  Likely to include the true population Parameter , along with a confidence level that the paramter lie between the Range.\n",
    "  \n",
    "# EXAMPLE SCENARIO :-\n",
    "\n",
    "* Suppose we want to estimate the average height of adult males in a city. We collect a sample of 100 adult males and find     that the sample mean height is 175 cm, and the sample standard deviation is 8 cm. We want a 95% confidence interval.\n",
    "\n",
    "* Sample Mean = 175 cm\n",
    "* Sample Standard Deviation = 8 Cm\n",
    "* Confidence Interval = 95%\n",
    "* Critical Value(Z) for 95% Confidence interval = 1.96\n",
    "* Margin of Error => 1.96*(8/Root 100) => 1.96 * 0.8 => 1.568(Approxmatiely)\n",
    "* Confidence Interval 175 +&- 1.568 = (173.432, 176.568)\n",
    "\n",
    "# CONCLUSION :-\n",
    "\n",
    "* We are 95% confidence the Average Height of Male is lies Between 173.432 to 176.568"
   ]
  },
  {
   "cell_type": "markdown",
   "id": "c0657e91-a9d7-4785-b74f-33e7939d6795",
   "metadata": {},
   "source": [
    "Q6. Use Bayes' Theorem to calculate the probability of an event occurring given prior knowledge of the event's probability       and new evidence. Provide a sample problem and solution."
   ]
  },
  {
   "cell_type": "markdown",
   "id": "3fad6a1d-f1b5-4f85-942f-d4177168b9c8",
   "metadata": {},
   "source": [
    "# EXAMPLE SCENARIO ::\n",
    "\n",
    "* Suppose a factory produces light bulbs, and 5% of its output is defective. A quality control inspector randomly selects a   bulb from the production line. The inspector knows that the probability of a bulb being defective (Event A) is 5%.\n",
    "  Additionally, the inspector has data that shows the probability of the bulb failing the quality control test (Event B)       given that it is defective is 0.9, and the probability of passing the quality control test given that it is not defective   is 0.95 ?\n",
    "  \n",
    "* Now, the inspector picks a bulb from the production line, tests it, and finds that it failed the quality control test.       What is the probability that this bulb is defective?  \n",
    "\n",
    "\n",
    "# SOLUTION :- Using Baye's Theorem \n",
    "\n",
    "* Event A: The bulb is defective.\n",
    "* Event B: The bulb fails the quality control test.\n",
    "* P(A) = 0.05 (prior probability of a bulb being defective)\n",
    "* P(B∣A) = 0.9 (probability of failing the test given that the bulb is defective)\n",
    "* P(B∣¬A) = 0.05 (probability of failing the test given that the bulb is not defective, which is 1 - probability of passing   the test given that the bulb is not defective).\n",
    "* P(¬A) = 1 - 𝑃(𝐴) = 0.95 (probability of a bulb not being defective)\n",
    "\n",
    "* Applying The BAYE'S THEOREM :-\n",
    "\n",
    "* P(A∣B)= P(B)P(B∣A)×P(A)\n",
    "\n",
    "* P(A∣B)= 0.9 * 0.05 / 0.9*0.05 + 0.05 * 0.9\n",
    "\n",
    "* P(A∣B)= 0.045 / 0.045+0.0475\n",
    "\n",
    "* P(A∣B) ≈ 0.4865\n",
    "\n",
    "* So, the probability that the bulb is defective given that it failed the quality control test is approximately 0.4865 or     48.65%."
   ]
  },
  {
   "cell_type": "markdown",
   "id": "c8a67880-fb53-4d18-83f3-343101a02726",
   "metadata": {},
   "source": [
    "Q7. Calculate the 95% confidence interval for a sample of data with a mean of 50 and a standard deviation\n",
    "of 5. Interpret the results."
   ]
  },
  {
   "cell_type": "code",
   "execution_count": 5,
   "id": "d6d733a2-81b1-4642-8fa4-bb7e560aab58",
   "metadata": {},
   "outputs": [
    {
     "name": "stdout",
     "output_type": "stream",
     "text": [
      "95% confidence Interval: (48.614096175650324, 51.385903824349676)\n"
     ]
    }
   ],
   "source": [
    "import scipy.stats as stats \n",
    "\n",
    "# Given Data :\n",
    "\n",
    "sample_mean = 50\n",
    "standard_deviation = 5\n",
    "confidence_level = 0.95 # 95% confidence Interval \n",
    "\n",
    "# Z-value for the 95% confidence Interval\n",
    "z_value = stats.norm.ppf((1 + confidence_level)/2)\n",
    "\n",
    "# Calculate the Margin of the Error :\n",
    "margin_of_error = z_value * (standard_deviation / (sample_mean ** 0.5))\n",
    "\n",
    "# calculate the Confidence Interval \n",
    "confidence_interval = (sample_mean - margin_of_error , sample_mean + margin_of_error)\n",
    "\n",
    "# Show the Result :\n",
    "print(\"95% confidence Interval:\",confidence_interval)"
   ]
  },
  {
   "cell_type": "markdown",
   "id": "b8b02d27-c869-4bff-b468-d178d5234cc2",
   "metadata": {},
   "source": [
    "Q8. What is the margin of error in a confidence interval? How does sample size affect the margin of error?\n",
    "Provide an example of a scenario where a larger sample size would result in a smaller margin of error."
   ]
  },
  {
   "cell_type": "markdown",
   "id": "e3020206-31b4-4695-9a94-72a048b54e38",
   "metadata": {},
   "source": [
    "# Margin Of Error :-\n",
    "\n",
    "* Margin of error in the confidence interval is a measure of the uncertinty or varibility around the point Estimate of\n",
    "  a population parameter(Such as Mean or Proportion) . It Represent the range of value above and below the point Estimate\n",
    "  within which population parameter is likely to Fall .\n",
    "  \n",
    "# Affect of the Margin of Error :-\n",
    "\n",
    "* Margin of the Error is Afftecd by the 3 Reason :\n",
    "\n",
    "* Confidence Interval => Higher Confidence levels results the Wide & large confidence Interval therefor larger margin \n",
    "                         of Error .\n",
    "                         \n",
    "* Standard deviation of Population => Greater varibility in the population Lead to larger margin of Error. \n",
    "\n",
    "* Sample Size => Larger Sample Size Result in small Margins of Error .\n",
    "\n",
    "* Sample Size affect the Margin of Error inversly when the sample size is increased then the Margin of the Error\n",
    "  is Decereased . The Relationship is due to the fact that larger sample size provide more information about thr population\n",
    "  Leading to more precise Estimate of the population Parameter .\n",
    "  \n",
    "\n",
    "# Example Scenario :-\n",
    "\n",
    "* let's consider a scenario where we want to estimate the mean income of a certain population. If we take a small sample       size, say 50 individuals, the margin of error might be relatively large, let's say $1000. However, if we increase the       sample size to 500 individuals, the margin of error might decrease to, say, $500. This reduction in margin of error with a   larger sample size indicates that we have greater confidence in the estimate of the population mean with the larger         sample."
   ]
  },
  {
   "cell_type": "markdown",
   "id": "d5720b6c-2160-48f1-809c-d9d3f2a9c55b",
   "metadata": {},
   "source": [
    "Q9. Calculate the z-score for a data point with a value of 75, a population mean of 70, and a population\n",
    "standard deviation of 5. Interpret the results."
   ]
  },
  {
   "cell_type": "code",
   "execution_count": 1,
   "id": "03643278-d575-4fca-b6f7-c312a715f7d9",
   "metadata": {},
   "outputs": [
    {
     "name": "stdout",
     "output_type": "stream",
     "text": [
      "Z-SCORE: 1.0\n"
     ]
    }
   ],
   "source": [
    "def calculate_z_score(x,mu,sigma):\n",
    "    return (x-mu)/sigma \n",
    "\n",
    "# Given Data \n",
    "\n",
    "x = 75 # Data point \n",
    "mu = 70 # Mean\n",
    "sigma = 5 # Standard deviation\n",
    "\n",
    "# Calculate the Z-Score\n",
    "z_score = calculate_z_score(x,mu,sigma)\n",
    "\n",
    "print(\"Z-SCORE:\",z_score)"
   ]
  },
  {
   "cell_type": "markdown",
   "id": "5099f0c2-4d12-4447-a008-ffda0d36b15e",
   "metadata": {},
   "source": [
    "Q10. In a study of the effectiveness of a new weight loss drug, a sample of 50 participants lost an average\n",
    "of 6 pounds with a standard deviation of 2.5 pounds. Conduct a hypothesis test to determine if the drug is\n",
    "significantly effective at a 95% confidence level using a t-test."
   ]
  },
  {
   "cell_type": "code",
   "execution_count": 5,
   "id": "681c7f06-3682-4528-ab4a-1d485b9413db",
   "metadata": {},
   "outputs": [
    {
     "name": "stdout",
     "output_type": "stream",
     "text": [
      "Failed to Rejcet Null Hypothesis : The drug is not Significantly Effect\n"
     ]
    }
   ],
   "source": [
    "from scipy import stats\n",
    "import math\n",
    "\n",
    "\n",
    "# Given Data\n",
    "\n",
    "sample_mean = 6\n",
    "sample_std_dev = 2.5\n",
    "n = 50\n",
    "alpha = 0.05 ## 95% Confidence Level which is 0.95 then alpha is 0.05\n",
    "null_mean = 0\n",
    "\n",
    "# Calculate the Standard Error of Mean(SEM):\n",
    "sem = sample_std_dev/math.sqrt(n)\n",
    "\n",
    "# Calculate the T-statistics \n",
    "t_statistic = (sample_mean - null_mean)/sem\n",
    "\n",
    "# Calculate the degree of Freedom\n",
    "df = n-1\n",
    "\n",
    "# Calculate the Critical T -value \n",
    "critical_t_value = stats.t.ppf(alpha,df)\n",
    "\n",
    "# Performing the one Tail T-Test\n",
    "p_value = stats.t.cdf(t_statistic,df)\n",
    "\n",
    "# Show the Result\n",
    "if t_statistic < critical_t_value :\n",
    "    print('Reject the Null Hypothesis: The Drug is significantly effective')\n",
    "else :\n",
    "    print('Failed to Rejcet Null Hypothesis : The drug is not Significantly Effect')"
   ]
  },
  {
   "cell_type": "markdown",
   "id": "eb358c0b-ec0a-4f4d-9c7a-e08ed0bd31cd",
   "metadata": {},
   "source": [
    "Q11. In a survey of 500 people, 65% reported being satisfied with their current job. Calculate the 95%\n",
    "confidence interval for the true proportion of people who are satisfied with their job."
   ]
  },
  {
   "cell_type": "code",
   "execution_count": 5,
   "id": "e44af50e-cdad-49d5-a9bd-f39020e0c0f0",
   "metadata": {},
   "outputs": [
    {
     "name": "stdout",
     "output_type": "stream",
     "text": [
      "Sample Proportion: 0.6500\n",
      "Standard Error: 0.0213\n",
      "95% Confidence Interval: (0.6082, 0.6918)\n"
     ]
    }
   ],
   "source": [
    "import math\n",
    "\n",
    "# Given Data :\n",
    "sample_proportion = 0.65 # 65% Report for Statisfaction\n",
    "sample_size = 500\n",
    "confidence_level = 0.95\n",
    "\n",
    "# Calculate the Standard Error \n",
    "standard_error = math.sqrt((sample_proportion * (1-sample_proportion)) / sample_size )\n",
    "                           \n",
    "# Calculate the Critical Value Z-Score for 95% Confidence Level   \n",
    "z_critical = 1.96 # this Value is Corossponded to 95% Confidence Level\n",
    "\n",
    "# Calculate the Margin of Error\n",
    "margin_of_error = z_critical * standard_error\n",
    "                           \n",
    "# Calculate the Lower Bound & Upper Bound for the confidence level\n",
    "                           \n",
    "lower_bound = sample_proportion - margin_of_error\n",
    "upper_bound = sample_proportion + margin_of_error\n",
    "                           \n",
    "# show the Result                           \n",
    "print(f\"Sample Proportion: {sample_proportion:.4f}\")\n",
    "print(f\"Standard Error: {standard_error:.4f}\")\n",
    "print(f\"95% Confidence Interval: ({lower_bound:.4f}, {upper_bound:.4f})\")                           "
   ]
  },
  {
   "cell_type": "markdown",
   "id": "c73a6e09-a5e2-4d67-93c8-2fae39cd1623",
   "metadata": {},
   "source": [
    "Q12. A researcher is testing the effectiveness of two different teaching methods on student performance.\n",
    "Sample A has a mean score of 85 with a standard deviation of 6, while sample B has a mean score of 82\n",
    "with a standard deviation of 5. Conduct a hypothesis test to determine if the two teaching methods have a\n",
    "significant difference in student performance using a t-test with a significance level of 0.01.\n",
    "\n"
   ]
  },
  {
   "cell_type": "code",
   "execution_count": 8,
   "id": "d208b0da-eae5-4a3f-a4d2-fed0b6f2fc7b",
   "metadata": {},
   "outputs": [
    {
     "name": "stdout",
     "output_type": "stream",
     "text": [
      "T-test Statistic: 1.9891\n",
      "Critical t-value: 2.6718\n",
      "Fail to reject the null hypothesis: There is no significant difference in student performance.\n"
     ]
    }
   ],
   "source": [
    "import numpy as np\n",
    "from scipy.stats import t\n",
    "\n",
    "# Sample Data A :\n",
    "mean_A = 85\n",
    "std_dev_A = 6\n",
    "n_A = 30   ## Assuming the sample Size of A is 30\n",
    "\n",
    "# Sample Data B\n",
    "mean_B = 82\n",
    "std_dev_B = 5 \n",
    "n_B = 25   ## Assuming the Sample size of B is 25\n",
    "\n",
    "# Set the Significance Level\n",
    "alpha = 0.01\n",
    "\n",
    "# Calculate the T-Statistics \n",
    "s_pooled = np.sqrt(((n_A - 1) * std_dev_A**2 + (n_B - 1) * std_dev_B**2) / (n_A + n_B - 2))\n",
    "t_statistic = (mean_A - mean_B) / (s_pooled * np.sqrt(1/n_A + 1/n_B))\n",
    "                                    \n",
    "# Calculate the Degree of FreeDom :\n",
    "df = (n_A + n_B)-2\n",
    "\n",
    "# Find critical t-value (two-tailed test)\n",
    "t_critical = t.ppf(1 - alpha/2, df)\n",
    "\n",
    "# Print results\n",
    "print(f\"T-test Statistic: {t_statistic:.4f}\")\n",
    "print(f\"Critical t-value: {t_critical:.4f}\")\n",
    "\n",
    "# Compare t-test statistic with critical t-value\n",
    "if np.abs(t_statistic) > t_critical:\n",
    "    print(\"Reject the null hypothesis: There is a significant difference in student performance.\")\n",
    "else:\n",
    "    print(\"Fail to reject the null hypothesis: There is no significant difference in student performance.\")"
   ]
  },
  {
   "cell_type": "markdown",
   "id": "8adad313-c2f3-462b-9479-3c02b572c931",
   "metadata": {},
   "source": [
    "Q13. A population has a mean of 60 and a standard deviation of 8. A sample of 50 observations has a mean\n",
    "of 65. Calculate the 90% confidence interval for the true population mean."
   ]
  },
  {
   "cell_type": "code",
   "execution_count": 4,
   "id": "001b7b73-a1fe-4cc5-9a56-d098274540ae",
   "metadata": {},
   "outputs": [
    {
     "name": "stdout",
     "output_type": "stream",
     "text": [
      "90% Confidence Interval for the Population Mean: (58.139,61.861)\n"
     ]
    }
   ],
   "source": [
    "import math\n",
    "\n",
    "# Given Data :\n",
    "sample_mean = 60\n",
    "population_std_dev = 8\n",
    "population_mean = 60\n",
    "sample_size = 50\n",
    "confidence_level = 0.90\n",
    "\n",
    "# Calculate the Critical Value(Z) from the Standard Normal Distribution :\n",
    "z_critical = 1.645 # for the 90% Confidence interval \n",
    "\n",
    "# Calculate the Margin of Error :\n",
    "margin_of_error = z_critical * (population_std_dev)/(math.sqrt(sample_size))\n",
    "\n",
    "# Calculate the Confidence Interval : \n",
    "lower_bound = sample_mean - margin_of_error\n",
    "upper_bound = sample_mean + margin_of_error\n",
    "\n",
    "# Print the confidence interval :\n",
    "print(f\"90% Confidence Interval for the Population Mean: ({lower_bound:.3f},{upper_bound:.3f})\")"
   ]
  },
  {
   "cell_type": "markdown",
   "id": "5b8adca9-1353-4ea5-859b-847d1895b856",
   "metadata": {},
   "source": [
    "Q14. In a study of the effects of caffeine on reaction time, a sample of 30 participants had an average\n",
    "reaction time of 0.25 seconds with a standard deviation of 0.05 seconds. Conduct a hypothesis test to\n",
    "determine if the caffeine has a significant effect on reaction time at a 90% confidence level using a t-test."
   ]
  },
  {
   "cell_type": "code",
   "execution_count": 10,
   "id": "b08d9a35-f7a9-4e92-b6f7-b128aaeb8695",
   "metadata": {},
   "outputs": [
    {
     "name": "stdout",
     "output_type": "stream",
     "text": [
      "Critical T-Value:1.699\n",
      "T_Statistics:0.000\n",
      "Failed to Reject the Null hypothesis\n"
     ]
    }
   ],
   "source": [
    "from scipy.stats import t \n",
    "\n",
    "# Given Data :\n",
    "sample_mean = 0.25\n",
    "sample_std_dev = 0.05\n",
    "sample_size = 30\n",
    "null_hypothesis_mean = 0.25 # We Assume there is no change , so the mean is Same\n",
    "\n",
    "# Set the Significnace Level to Caculate the Alpha \n",
    "confidence_level = 0.90\n",
    "alpha = 1 - confidence_level \n",
    "df =  sample_size - 1 # Degree of Freedom for the T-Distribution :\n",
    "\n",
    "# Calculate the Critical T-Value(Two Tail-Test)\n",
    "critical_t_value = t.ppf(1 - alpha / 2 , df )\n",
    "\n",
    "# Calculate the SEM(Standard Error Mean) :\n",
    "sem = sem = sample_std_dev / math.sqrt(sample_size)\n",
    "\n",
    "# Calculate the T - Statistics :\n",
    "t_statistics = (sample_mean - null_hypothesis_mean) / sem\n",
    "# Print the T-value and T-statistics \n",
    "print(f\"Critical T-Value:{critical_t_value:.3f}\")\n",
    "print(f\"T_Statistics:{t_statistics:.3f}\")\n",
    "\n",
    "# Compare the T-Statistics And the Critical t - value \n",
    "if (t_statistics) > critical_t_value :\n",
    "    print(\"Reject the Null Hypothesis\")\n",
    "else :\n",
    "    print(\"Failed to Reject the Null hypothesis\")"
   ]
  },
  {
   "cell_type": "code",
   "execution_count": null,
   "id": "3e05d9a3-0fe8-4681-9fc5-cb1032c5bd3f",
   "metadata": {},
   "outputs": [],
   "source": []
  }
 ],
 "metadata": {
  "kernelspec": {
   "display_name": "Python 3 (ipykernel)",
   "language": "python",
   "name": "python3"
  },
  "language_info": {
   "codemirror_mode": {
    "name": "ipython",
    "version": 3
   },
   "file_extension": ".py",
   "mimetype": "text/x-python",
   "name": "python",
   "nbconvert_exporter": "python",
   "pygments_lexer": "ipython3",
   "version": "3.10.8"
  }
 },
 "nbformat": 4,
 "nbformat_minor": 5
}
